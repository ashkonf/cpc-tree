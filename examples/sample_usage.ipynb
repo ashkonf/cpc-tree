{
 "cells": [
  {
   "cell_type": "markdown",
   "id": "fc89f287",
   "metadata": {},
   "source": [
    "# CPC Tree Sample Usage"
   ]
  },
  {
   "cell_type": "markdown",
   "id": "147b88d3",
   "metadata": {},
   "source": [
    "This notebook demonstrates how to load and explore the CPC classification tree using the `cpc_tree` library."
   ]
  },
  {
   "cell_type": "code",
   "execution_count": 1,
   "id": "74e9d128",
   "metadata": {
    "execution": {
     "iopub.execute_input": "2025-08-06T23:17:42.521002Z",
     "iopub.status.busy": "2025-08-06T23:17:42.520667Z",
     "iopub.status.idle": "2025-08-06T23:17:44.338160Z",
     "shell.execute_reply": "2025-08-06T23:17:44.336816Z"
    }
   },
   "outputs": [
    {
     "name": "stdout",
     "output_type": "stream",
     "text": [
      "['A', 'B', 'C', 'D', 'E']\n"
     ]
    }
   ],
   "source": [
    "import json\n",
    "from cpc_tree import load_cpc_tree\n",
    "\n",
    "with open(\"cpc_tree.json\") as f:\n",
    "    data = json.load(f)\n",
    "\n",
    "print(list(data.keys())[:5])"
   ]
  },
  {
   "cell_type": "code",
   "execution_count": 2,
   "id": "9c9776e8",
   "metadata": {
    "execution": {
     "iopub.execute_input": "2025-08-06T23:17:44.341879Z",
     "iopub.status.busy": "2025-08-06T23:17:44.341529Z",
     "iopub.status.idle": "2025-08-06T23:17:45.975779Z",
     "shell.execute_reply": "2025-08-06T23:17:45.974799Z"
    }
   },
   "outputs": [
    {
     "name": "stdout",
     "output_type": "stream",
     "text": [
      "HUMAN NECESSITIES\n",
      "['A01', 'A21', 'A41', 'A61', 'A99']\n",
      "AGRICULTURE\n"
     ]
    }
   ],
   "source": [
    "cpc_tree = load_cpc_tree(data)\n",
    "section_a = cpc_tree[\"A\"]\n",
    "print(section_a.title)\n",
    "print(list(section_a.children.keys())[:5])\n",
    "print(section_a.children[\"A01\"].title)"
   ]
  }
 ],
 "metadata": {
  "language_info": {
   "codemirror_mode": {
    "name": "ipython",
    "version": 3
   },
   "file_extension": ".py",
   "mimetype": "text/x-python",
   "name": "python",
   "nbconvert_exporter": "python",
   "pygments_lexer": "ipython3",
   "version": "3.13.3"
  }
 },
 "nbformat": 4,
 "nbformat_minor": 5
}
